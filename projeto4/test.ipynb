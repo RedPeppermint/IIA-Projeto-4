{
 "cells": [
  {
   "cell_type": "code",
   "execution_count": null,
   "metadata": {
    "collapsed": true
   },
   "outputs": [],
   "source": [
    "from sklearn.tree import *\n",
    "from utilsAA import *\n",
    "\n",
    "\n",
    "a = load_data(\"airline.csv\")\n",
    "\n",
    "def encode_all(data):\n",
    "    # encode gender\n",
    "    print(data)\n",
    "    data[:, 0] = encode_feature(data[:, 0])\n",
    "    # encode customer type\n",
    "    data[:, 1] = encode_feature(data[:, 1])\n",
    "    # encode type of travel\n",
    "    data[:, 3] = encode_feature((data[:, 3]))\n",
    "    # encode class\n",
    "    data[:, 4] = encode_feature(data[:, 4])\n",
    "    print(data)\n",
    "    return data\n",
    "\n",
    "\n",
    "def remove_client_id(data):\n",
    "    data = data[:, 1:]\n",
    "    return data\n",
    "\n",
    "\n",
    "a = (remove_client_id(a[0]),) + a[1:]\n",
    "data = encode_all(a[0])\n",
    "target = encode_feature(a[1])\n",
    "\n",
    "print(\"DTC\")\n",
    "dtc = DecisionTreeClassifier(criterion='entropy', max_depth=None, min_samples_split=2, min_samples_leaf=1)\n",
    "print(dtc.fit(data, target))\n",
    "plt.figure(figsize=[20, 15])\n",
    "plot_tree(dtc, feature_names=a[2], class_names=a[3], filled=True)\n",
    "plt.show()"
   ]
  }
 ],
 "metadata": {
  "kernelspec": {
   "display_name": "Python 3",
   "language": "python",
   "name": "python3"
  },
  "language_info": {
   "codemirror_mode": {
    "name": "ipython",
    "version": 2
   },
   "file_extension": ".py",
   "mimetype": "text/x-python",
   "name": "python",
   "nbconvert_exporter": "python",
   "pygments_lexer": "ipython2",
   "version": "2.7.6"
  }
 },
 "nbformat": 4,
 "nbformat_minor": 0
}