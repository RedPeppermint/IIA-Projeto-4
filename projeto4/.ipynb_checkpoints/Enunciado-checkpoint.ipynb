{
 "cells": [
  {
   "cell_type": "markdown",
   "metadata": {},
   "source": [
    "## Projeto nº 4: Aprendizagem Automática\n",
    "\n",
    "### Introdução à Inteligência Artificial 2020/2021\n",
    "\n",
    "#### Entrega: 20 de Dezembro às 23h59\n",
    "\n",
    "<img src=\"oceanic.jpg\" width=\"200\">"
   ]
  },
  {
   "cell_type": "markdown",
   "metadata": {},
   "source": [
    "## Introdução\n",
    "\n",
    "A companhia aérea \"Oceanic\" está a tentar melhorar a qualidade do seu serviço e para isso a opinião dos seus passageiros é muito importante. Assim recolheu alguns dados sobre as viagens efetuadas por alguns clientes (como por exemplo, tipo de cliente, tipo de viagem, distância do voo, etc.) e também efetuou um questionário a esses clientes para perceber o nível de satisfação dos mesmos. Posteriormente a companhia aérea percebeu que precisava da ajuda de um especialista de IA para desenvolver um modelo capaz de prever o nível de satisfação dos seus clientes. \n",
    "\n",
    "#### Objetivo\n",
    "\n",
    "Pretende-se que os alunos da cadeira de IIA criem um modelo que preveja se um dado cliente está ou não satisfeito com a qualidade do serviço prestado pela companhia aérea, usando os conhecimentos adquiridos na disciplina."
   ]
  },
  {
   "cell_type": "markdown",
   "metadata": {},
   "source": [
    "## Descrição do conjunto de dados\n",
    "\n",
    "O conjunto de dados `airline.csv` é composto pelas respostas dos 778 clientes que responderam ao questionário. Este conjunto de dados tem 20 colunas, sendo a última coluna (*satisfaction*) a classe de cada um dos clientes. No contexto deste problema definem-se apenas duas classes: *neutral or dissatisfied* e *satisfied*.\n",
    "\n",
    "Para garantir a qualidade do modelo, a \"Oceanic\" lançou um **campeonato para avaliar qual o melhor modelo desenvolvido pelos alunos**. Assim, é ainda fornecido um conjunto de teste `test.csv` para o qual devem fazer previsões das classes de cada um dos clientes. Este  conjunto é composto por 260 clientes, com os mesmos atributos que o conjunto `airline.csv`, mas sem a coluna correspondente à classe (a qual se mantém na posse da companhia aérea). A qualidade dos modelos desenvolvidos será assim ordenado com base no desempenho (*accuracy*) neste conjunto de teste."
   ]
  },
  {
   "cell_type": "markdown",
   "metadata": {},
   "source": [
    "## Etapas do trabalho a executar\n",
    "\n",
    "Para organizar o seu trabalho e encontrar o melhor modelo de forma organizada, sugere-se a seguinte série de etapas:\n",
    "\n",
    "**Etapa 1: carregar o conjunto de dados**  \n",
    "Faça load dos dados com a função `load_data` do módulo `utilsAA` fornecido com este guião.\n",
    "```python\n",
    "def load_data(fname, testdata=False):\n",
    "    \"\"\"Load CSV file with any number of consecutive features, \n",
    "       starting in column 0, where last column is the class\n",
    "       \n",
    "       Arguments:\n",
    "           fname is a string with the filename \n",
    "           testdata is False if the csv file has the last column \n",
    "                    with class labels; and True if the csv file \n",
    "                    does not have that column (i.e., read a test \n",
    "                    file without class)\n",
    "       Returns:\n",
    "           table_X matrix with data\n",
    "           table_y array with classes (if testdata=False)\n",
    "           features array with features names\n",
    "           target array with target name (if testdata=False)\n",
    "    \"\"\"\n",
    "```\n",
    "\n",
    "**Etapa 2: processar os dados**  \n",
    "Verifique se os seus dados estão prontos a serem usados pelos algoritmos. Se precisar de identificar quais os valores possiveis num atributo utilize a função `unique` do módulo `numpy`.\n",
    "\n",
    "**Etapa 3: procura do melhor modelo**  \n",
    "Experimente os algoritmos árvores de decisão e k vizinhos mais próximos, variando os respetivos parâmetros. Escolha o melhor modelo a aplicar no conjunto de teste fornecido.\n",
    "\n",
    "**Etapa 4: gravar as previsões para o conjunto de teste fornecido**  \n",
    "Após a escolha do melhor modelo, faça load dos dados de teste com a mesma função `load_data`, mas usando o argumento `testdata=True`, para ler os dados sem a coluna das classes (que não irá existir neste conjunto de dados). \n",
    "```python\n",
    "data, features_names = load_data(fname,testdata=True)\n",
    "```\n",
    "Atenção: o processamento que fizer na etapa 2 relativo aos seus dados (`airline.csv`) deverá ser também aplicado ao conjunto de teste (`test.csv`) antes de aplicar o modelo. Depois de fazer as previsões com o modelo escolhido, use a função `save_data` para gravar as suas previsões para o conjunto de teste. Deverá submeter este ficheiro `.csv` para participar no campeonato. \n",
    "```python\n",
    "def save_data(fname,prev):\n",
    "    \"\"\"Save a CSV file with the content of prev\n",
    "    \n",
    "       Arguments:\n",
    "           fname is a string corresponding to the filename\n",
    "           prev array to save in the CSV file\n",
    "    \"\"\"\n",
    "```"
   ]
  },
  {
   "cell_type": "markdown",
   "metadata": {},
   "source": [
    "## Entrega\n",
    "\n",
    "Cada grupo deverá entregar um zip com o nome **IIA2021-proj4-XX.zip** com dois ficheiros: o relatório e o ficheiro com as previsões do seu modelo para o conjunto de teste.\n",
    "\n",
    "O relatório é **obrigatório** e deverá ser escrito no Jupyter Notebook com o nome **IIA2021-proj4-XX.ipynb**, substituindo **XX** pelo número do grupo. O relatório deverá descrever as etapas no desenvolvimento do trabalho e ainda incluir:\n",
    "* Identificação do número do grupo e dos respetivos membros\n",
    "* Explicação e justificações (sempre que necessário) para cada uma das etapas do trabalho\n",
    "* Código que executa cada uma das etapas e respetivos resultados (accuracy)\n",
    "\n",
    "O ficheiro de previsões para o conjunto de teste fornecido deverá ser gravado seguindo as indicações da etapa 4 e deverá chamar-se **IIA2021-proj4-XX.csv**, novamente substituindo **XX** pelo número do grupo. Não deve alterar o conteúdo deste ficheiro gravado na etapa 4 com a função `save_data`. **Quem não cumprir esta especificação não será avaliado e terá 0 de nota.** Para validar que o ficheiro `.csv` cumpre as regras, poderá abri-lo num editor de texto, e verificar que contém uma única coluna com 260 linhas (previsões).\n",
    "\n",
    "#### Prazo\n",
    "\n",
    "O prazo de entrega é **20 de Dezembro às 23h59**."
   ]
  },
  {
   "cell_type": "code",
   "execution_count": null,
   "metadata": {},
   "outputs": [],
   "source": []
  }
 ],
 "metadata": {
  "kernelspec": {
   "display_name": "Python 3",
   "language": "python",
   "name": "python3"
  },
  "language_info": {
   "codemirror_mode": {
    "name": "ipython",
    "version": 3
   },
   "file_extension": ".py",
   "mimetype": "text/x-python",
   "name": "python",
   "nbconvert_exporter": "python",
   "pygments_lexer": "ipython3",
   "version": "3.8.5"
  }
 },
 "nbformat": 4,
 "nbformat_minor": 4
}
